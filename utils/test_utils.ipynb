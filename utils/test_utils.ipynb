{
 "cells": [
  {
   "cell_type": "code",
   "execution_count": 1,
   "metadata": {},
   "outputs": [],
   "source": [
    "import utils\n",
    "import importlib"
   ]
  },
  {
   "cell_type": "code",
   "execution_count": 2,
   "metadata": {},
   "outputs": [],
   "source": [
    "import pandas as pd\n",
    "import numpy"
   ]
  },
  {
   "cell_type": "code",
   "execution_count": 15,
   "metadata": {},
   "outputs": [
    {
     "data": {
      "text/plain": [
       "<module 'utils' from '/Users/Rick/Documents/GitHub/TransitCenter/utils/utils.py'>"
      ]
     },
     "execution_count": 15,
     "metadata": {},
     "output_type": "execute_result"
    }
   ],
   "source": [
    "importlib.reload(utils)"
   ]
  },
  {
   "cell_type": "code",
   "execution_count": 16,
   "metadata": {},
   "outputs": [],
   "source": [
    "region = 'New York'\n",
    "extent = 'region'"
   ]
  },
  {
   "cell_type": "code",
   "execution_count": 17,
   "metadata": {},
   "outputs": [],
   "source": [
    "county_ids = utils.county_ids.get_county_ids(region, extent)"
   ]
  },
  {
   "cell_type": "code",
   "execution_count": 18,
   "metadata": {},
   "outputs": [],
   "source": [
    "utils.geometry.boundaries(region, county_ids, extent)"
   ]
  },
  {
   "cell_type": "code",
   "execution_count": 19,
   "metadata": {},
   "outputs": [
    {
     "name": "stderr",
     "output_type": "stream",
     "text": [
      "/Users/Rick/Documents/GitHub/TransitCenter/utils/utils.py:138: SettingWithCopyWarning: \n",
      "A value is trying to be set on a copy of a slice from a DataFrame\n",
      "\n",
      "See the caveats in the documentation: https://pandas.pydata.org/pandas-docs/stable/user_guide/indexing.html#returning-a-view-versus-a-copy\n",
      "  pd_block_groups[\"CGEOID\"][pd_block_groups[\"county_geoid_temp\"] < 10000] = \"0\" + pd_block_groups[\"CGEOID\"]\n",
      "/Users/Rick/Documents/GitHub/TransitCenter/utils/utils.py:146: SettingWithCopyWarning: \n",
      "A value is trying to be set on a copy of a slice from a DataFrame\n",
      "\n",
      "See the caveats in the documentation: https://pandas.pydata.org/pandas-docs/stable/user_guide/indexing.html#returning-a-view-versus-a-copy\n",
      "  pd_block_groups[\"GEOID\"][pd_block_groups[\"block_geoid_temp\"] < 100000000000] = \"0\" + pd_block_groups[\"GEOID\"]\n"
     ]
    }
   ],
   "source": [
    "utils.geometry.block_groups(region, county_ids, extent)"
   ]
  },
  {
   "cell_type": "code",
   "execution_count": 20,
   "metadata": {},
   "outputs": [
    {
     "data": {
      "text/plain": [
       "'osmconvert us-latest.osm.pbf -b=-74.939819,40.02913,-71.806214,41.41631959624439 -o=New York.osm.pbf'"
      ]
     },
     "execution_count": 20,
     "metadata": {},
     "output_type": "execute_result"
    }
   ],
   "source": [
    "utils.geometry.osm_bounds(region, county_ids, extent)"
   ]
  },
  {
   "cell_type": "code",
   "execution_count": 21,
   "metadata": {},
   "outputs": [
    {
     "name": "stderr",
     "output_type": "stream",
     "text": [
      "/Users/Rick/Documents/GitHub/TransitCenter/utils/utils.py:138: SettingWithCopyWarning: \n",
      "A value is trying to be set on a copy of a slice from a DataFrame\n",
      "\n",
      "See the caveats in the documentation: https://pandas.pydata.org/pandas-docs/stable/user_guide/indexing.html#returning-a-view-versus-a-copy\n",
      "  pd_block_groups[\"CGEOID\"][pd_block_groups[\"county_geoid_temp\"] < 10000] = \"0\" + pd_block_groups[\"CGEOID\"]\n",
      "/Users/Rick/Documents/GitHub/TransitCenter/utils/utils.py:146: SettingWithCopyWarning: \n",
      "A value is trying to be set on a copy of a slice from a DataFrame\n",
      "\n",
      "See the caveats in the documentation: https://pandas.pydata.org/pandas-docs/stable/user_guide/indexing.html#returning-a-view-versus-a-copy\n",
      "  pd_block_groups[\"GEOID\"][pd_block_groups[\"block_geoid_temp\"] < 100000000000] = \"0\" + pd_block_groups[\"GEOID\"]\n"
     ]
    }
   ],
   "source": [
    "region = 'Boston'\n",
    "county_ids = utils.county_ids.get_county_ids(region, extent)\n",
    "utils.geometry.boundaries(region, county_ids, extent)\n",
    "utils.geometry.block_groups(region, county_ids, extent)"
   ]
  },
  {
   "cell_type": "code",
   "execution_count": 22,
   "metadata": {},
   "outputs": [
    {
     "name": "stderr",
     "output_type": "stream",
     "text": [
      "/Users/Rick/Documents/GitHub/TransitCenter/utils/utils.py:138: SettingWithCopyWarning: \n",
      "A value is trying to be set on a copy of a slice from a DataFrame\n",
      "\n",
      "See the caveats in the documentation: https://pandas.pydata.org/pandas-docs/stable/user_guide/indexing.html#returning-a-view-versus-a-copy\n",
      "  pd_block_groups[\"CGEOID\"][pd_block_groups[\"county_geoid_temp\"] < 10000] = \"0\" + pd_block_groups[\"CGEOID\"]\n",
      "/Users/Rick/Documents/GitHub/TransitCenter/utils/utils.py:146: SettingWithCopyWarning: \n",
      "A value is trying to be set on a copy of a slice from a DataFrame\n",
      "\n",
      "See the caveats in the documentation: https://pandas.pydata.org/pandas-docs/stable/user_guide/indexing.html#returning-a-view-versus-a-copy\n",
      "  pd_block_groups[\"GEOID\"][pd_block_groups[\"block_geoid_temp\"] < 100000000000] = \"0\" + pd_block_groups[\"GEOID\"]\n"
     ]
    }
   ],
   "source": [
    "region = 'District of Columbia'\n",
    "county_ids = utils.county_ids.get_county_ids(region, extent)\n",
    "utils.geometry.boundaries(region, county_ids, extent)\n",
    "utils.geometry.block_groups(region, county_ids, extent)"
   ]
  },
  {
   "cell_type": "code",
   "execution_count": 23,
   "metadata": {},
   "outputs": [
    {
     "name": "stderr",
     "output_type": "stream",
     "text": [
      "/Users/Rick/Documents/GitHub/TransitCenter/utils/utils.py:138: SettingWithCopyWarning: \n",
      "A value is trying to be set on a copy of a slice from a DataFrame\n",
      "\n",
      "See the caveats in the documentation: https://pandas.pydata.org/pandas-docs/stable/user_guide/indexing.html#returning-a-view-versus-a-copy\n",
      "  pd_block_groups[\"CGEOID\"][pd_block_groups[\"county_geoid_temp\"] < 10000] = \"0\" + pd_block_groups[\"CGEOID\"]\n",
      "/Users/Rick/Documents/GitHub/TransitCenter/utils/utils.py:146: SettingWithCopyWarning: \n",
      "A value is trying to be set on a copy of a slice from a DataFrame\n",
      "\n",
      "See the caveats in the documentation: https://pandas.pydata.org/pandas-docs/stable/user_guide/indexing.html#returning-a-view-versus-a-copy\n",
      "  pd_block_groups[\"GEOID\"][pd_block_groups[\"block_geoid_temp\"] < 100000000000] = \"0\" + pd_block_groups[\"GEOID\"]\n"
     ]
    }
   ],
   "source": [
    "region = 'Philadelphia'\n",
    "county_ids = utils.county_ids.get_county_ids(region, extent)\n",
    "utils.geometry.boundaries(region, county_ids, extent)\n",
    "utils.geometry.block_groups(region, county_ids, extent)"
   ]
  },
  {
   "cell_type": "code",
   "execution_count": 32,
   "metadata": {},
   "outputs": [
    {
     "name": "stderr",
     "output_type": "stream",
     "text": [
      "/Users/Rick/Documents/GitHub/TransitCenter/utils/utils.py:138: SettingWithCopyWarning: \n",
      "A value is trying to be set on a copy of a slice from a DataFrame\n",
      "\n",
      "See the caveats in the documentation: https://pandas.pydata.org/pandas-docs/stable/user_guide/indexing.html#returning-a-view-versus-a-copy\n",
      "  pd_block_groups[\"CGEOID\"][pd_block_groups[\"county_geoid_temp\"] < 10000] = \"0\" + pd_block_groups[\"CGEOID\"]\n",
      "/Users/Rick/Documents/GitHub/TransitCenter/utils/utils.py:146: SettingWithCopyWarning: \n",
      "A value is trying to be set on a copy of a slice from a DataFrame\n",
      "\n",
      "See the caveats in the documentation: https://pandas.pydata.org/pandas-docs/stable/user_guide/indexing.html#returning-a-view-versus-a-copy\n",
      "  pd_block_groups[\"GEOID\"][pd_block_groups[\"block_geoid_temp\"] < 100000000000] = \"0\" + pd_block_groups[\"GEOID\"]\n"
     ]
    }
   ],
   "source": [
    "region = 'Los Angeles'\n",
    "county_ids = utils.county_ids.get_county_ids(region, extent)\n",
    "utils.geometry.boundaries(region, county_ids, extent)\n",
    "utils.geometry.block_groups(region, county_ids, extent)"
   ]
  },
  {
   "cell_type": "code",
   "execution_count": 33,
   "metadata": {},
   "outputs": [
    {
     "name": "stderr",
     "output_type": "stream",
     "text": [
      "/Users/Rick/Documents/GitHub/TransitCenter/utils/utils.py:138: SettingWithCopyWarning: \n",
      "A value is trying to be set on a copy of a slice from a DataFrame\n",
      "\n",
      "See the caveats in the documentation: https://pandas.pydata.org/pandas-docs/stable/user_guide/indexing.html#returning-a-view-versus-a-copy\n",
      "  pd_block_groups[\"CGEOID\"][pd_block_groups[\"county_geoid_temp\"] < 10000] = \"0\" + pd_block_groups[\"CGEOID\"]\n",
      "/Users/Rick/Documents/GitHub/TransitCenter/utils/utils.py:146: SettingWithCopyWarning: \n",
      "A value is trying to be set on a copy of a slice from a DataFrame\n",
      "\n",
      "See the caveats in the documentation: https://pandas.pydata.org/pandas-docs/stable/user_guide/indexing.html#returning-a-view-versus-a-copy\n",
      "  pd_block_groups[\"GEOID\"][pd_block_groups[\"block_geoid_temp\"] < 100000000000] = \"0\" + pd_block_groups[\"GEOID\"]\n"
     ]
    }
   ],
   "source": [
    "region = 'Chicago'\n",
    "county_ids = utils.county_ids.get_county_ids(region, extent)\n",
    "utils.geometry.boundaries(region, county_ids, extent)\n",
    "utils.geometry.block_groups(region, county_ids, extent)"
   ]
  },
  {
   "cell_type": "code",
   "execution_count": 34,
   "metadata": {},
   "outputs": [
    {
     "name": "stderr",
     "output_type": "stream",
     "text": [
      "/Users/Rick/Documents/GitHub/TransitCenter/utils/utils.py:138: SettingWithCopyWarning: \n",
      "A value is trying to be set on a copy of a slice from a DataFrame\n",
      "\n",
      "See the caveats in the documentation: https://pandas.pydata.org/pandas-docs/stable/user_guide/indexing.html#returning-a-view-versus-a-copy\n",
      "  pd_block_groups[\"CGEOID\"][pd_block_groups[\"county_geoid_temp\"] < 10000] = \"0\" + pd_block_groups[\"CGEOID\"]\n",
      "/Users/Rick/Documents/GitHub/TransitCenter/utils/utils.py:146: SettingWithCopyWarning: \n",
      "A value is trying to be set on a copy of a slice from a DataFrame\n",
      "\n",
      "See the caveats in the documentation: https://pandas.pydata.org/pandas-docs/stable/user_guide/indexing.html#returning-a-view-versus-a-copy\n",
      "  pd_block_groups[\"GEOID\"][pd_block_groups[\"block_geoid_temp\"] < 100000000000] = \"0\" + pd_block_groups[\"GEOID\"]\n"
     ]
    }
   ],
   "source": [
    "region = 'San Francisco-Oakland'\n",
    "county_ids = utils.county_ids.get_county_ids(region, extent)\n",
    "utils.geometry.boundaries(region, county_ids, extent)\n",
    "utils.geometry.block_groups(region, county_ids, extent)"
   ]
  },
  {
   "cell_type": "code",
   "execution_count": null,
   "metadata": {},
   "outputs": [],
   "source": []
  }
 ],
 "metadata": {
  "kernelspec": {
   "display_name": "Python 3",
   "language": "python",
   "name": "python3"
  },
  "language_info": {
   "codemirror_mode": {
    "name": "ipython",
    "version": 3
   },
   "file_extension": ".py",
   "mimetype": "text/x-python",
   "name": "python",
   "nbconvert_exporter": "python",
   "pygments_lexer": "ipython3",
   "version": "3.7.6"
  }
 },
 "nbformat": 4,
 "nbformat_minor": 4
}
