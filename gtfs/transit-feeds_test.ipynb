{
 "cells": [
  {
   "cell_type": "code",
   "execution_count": 1,
   "metadata": {},
   "outputs": [],
   "source": [
    "import requests\n",
    "import csv\n",
    "import os\n",
    "import urllib\n",
    "import sys\n",
    "import importlib\n",
    "import pandas as pd\n",
    "from shapely.geometry import Point, Polygon\n",
    "import time\n",
    "import datetime\n",
    "from datetime import datetime\n",
    "from time import sleep\n",
    "import geopandas \n",
    "\n",
    "sys.path.insert(1, '../utils')\n",
    "\n",
    "import utils"
   ]
  },
  {
   "cell_type": "code",
   "execution_count": 2,
   "metadata": {},
   "outputs": [],
   "source": [
    "s = requests.Session()"
   ]
  },
  {
   "cell_type": "code",
   "execution_count": 3,
   "metadata": {},
   "outputs": [
    {
     "data": {
      "text/plain": [
       "<module 'utils' from '../utils/utils.py'>"
      ]
     },
     "execution_count": 3,
     "metadata": {},
     "output_type": "execute_result"
    }
   ],
   "source": [
    "importlib.reload(utils)"
   ]
  },
  {
   "cell_type": "code",
   "execution_count": 4,
   "metadata": {},
   "outputs": [],
   "source": [
    "region = 'New York'\n",
    "extent = 'region'\n",
    "county_ids = utils.county_ids.get_county_ids(region, extent)\n",
    "input_date = '2020-05-01'\n",
    "input_ts = time.mktime(datetime.strptime(input_date, \"%Y-%m-%d\").timetuple())\n",
    "xmin, xmax, ymin, ymax = utils.geometry.osm_bounds(region, county_ids, extent, file = False, raw = True)\n",
    "\n",
    "url = 'https://api.transitfeeds.com'"
   ]
  },
  {
   "cell_type": "code",
   "execution_count": 5,
   "metadata": {},
   "outputs": [],
   "source": [
    "# bounding box\n",
    "\n",
    "coords = [(xmin, ymin), (xmin, ymax), (xmax, ymax), (xmax, ymin)]\n",
    "poly = Polygon(coords)"
   ]
  },
  {
   "cell_type": "code",
   "execution_count": 6,
   "metadata": {},
   "outputs": [],
   "source": [
    "# api key\n",
    "\n",
    "#key = '9efe3e4d-9b04-467c-9c72-0cc3cf666fd0'\n",
    "key = 'f2a91a7e-154d-434a-8083-2cd18e25f3d2'"
   ]
  },
  {
   "cell_type": "code",
   "execution_count": 7,
   "metadata": {},
   "outputs": [],
   "source": [
    "output_feed_info = [list(['operator_name', 'operator_website', 'operator_location', 'operator_metro', 'feed_id', 'date_query', \n",
    "                         'date_fetched', 'earliest_calendar_date', 'latest_calendar_date', 'transit_feeds_url'])]"
   ]
  },
  {
   "cell_type": "code",
   "execution_count": 8,
   "metadata": {},
   "outputs": [],
   "source": [
    "# gets all available locations on transit feeds\n",
    "\n",
    "response = s.get(\n",
    "    url+'/v1/getLocations',\n",
    "    params = {'key': key\n",
    "       \n",
    "    }\n",
    ")\n",
    "locations = response.json()['results']['locations']\n",
    "sleep(15)"
   ]
  },
  {
   "cell_type": "code",
   "execution_count": 9,
   "metadata": {
    "scrolled": false
   },
   "outputs": [],
   "source": [
    "# filters locations to only those within bounding box\n",
    "\n",
    "location_ids = []\n",
    "for operator in locations:\n",
    "    pt = Point(operator['lng'], operator['lat'])\n",
    "    if pt.within(poly) is True: \n",
    "        location_ids.append(operator['id'])"
   ]
  },
  {
   "cell_type": "code",
   "execution_count": 10,
   "metadata": {},
   "outputs": [
    {
     "name": "stdout",
     "output_type": "stream",
     "text": [
      "greater-bridgeport-transit/1022\n",
      "mta/81\n",
      "mta/80\n",
      "port-authority-of-new-york-and-new-jersey/384\n",
      "suffolk-county-transit/1121\n",
      "0\n",
      "1\n"
     ]
    },
    {
     "ename": "KeyboardInterrupt",
     "evalue": "",
     "output_type": "error",
     "traceback": [
      "\u001b[0;31m---------------------------------------------------------------------------\u001b[0m",
      "\u001b[0;31mIndexError\u001b[0m                                Traceback (most recent call last)",
      "\u001b[0;32m<ipython-input-10-60e68ba09b22>\u001b[0m in \u001b[0;36m<module>\u001b[0;34m\u001b[0m\n\u001b[1;32m     13\u001b[0m             \u001b[0mfeeds\u001b[0m \u001b[0;34m=\u001b[0m \u001b[0mresponse\u001b[0m\u001b[0;34m.\u001b[0m\u001b[0mjson\u001b[0m\u001b[0;34m(\u001b[0m\u001b[0;34m)\u001b[0m\u001b[0;34m[\u001b[0m\u001b[0;34m'results'\u001b[0m\u001b[0;34m]\u001b[0m\u001b[0;34m[\u001b[0m\u001b[0;34m'feeds'\u001b[0m\u001b[0;34m]\u001b[0m\u001b[0;34m\u001b[0m\u001b[0;34m\u001b[0m\u001b[0m\n\u001b[0;32m---> 14\u001b[0;31m             \u001b[0mid_lst\u001b[0m\u001b[0;34m.\u001b[0m\u001b[0mappend\u001b[0m\u001b[0;34m(\u001b[0m\u001b[0mfeeds\u001b[0m\u001b[0;34m[\u001b[0m\u001b[0;36m0\u001b[0m\u001b[0;34m]\u001b[0m\u001b[0;34m[\u001b[0m\u001b[0;34m'id'\u001b[0m\u001b[0;34m]\u001b[0m\u001b[0;34m)\u001b[0m\u001b[0;34m\u001b[0m\u001b[0;34m\u001b[0m\u001b[0m\n\u001b[0m\u001b[1;32m     15\u001b[0m             \u001b[0mprint\u001b[0m\u001b[0;34m(\u001b[0m\u001b[0mfeeds\u001b[0m\u001b[0;34m[\u001b[0m\u001b[0;36m0\u001b[0m\u001b[0;34m]\u001b[0m\u001b[0;34m[\u001b[0m\u001b[0;34m'id'\u001b[0m\u001b[0;34m]\u001b[0m\u001b[0;34m)\u001b[0m\u001b[0;34m\u001b[0m\u001b[0;34m\u001b[0m\u001b[0m\n",
      "\u001b[0;31mIndexError\u001b[0m: list index out of range",
      "\nDuring handling of the above exception, another exception occurred:\n",
      "\u001b[0;31mKeyboardInterrupt\u001b[0m                         Traceback (most recent call last)",
      "\u001b[0;32m<ipython-input-10-60e68ba09b22>\u001b[0m in \u001b[0;36m<module>\u001b[0;34m\u001b[0m\n\u001b[1;32m     17\u001b[0m         \u001b[0;32mexcept\u001b[0m\u001b[0;34m:\u001b[0m\u001b[0;34m\u001b[0m\u001b[0;34m\u001b[0m\u001b[0m\n\u001b[1;32m     18\u001b[0m             \u001b[0mprint\u001b[0m\u001b[0;34m(\u001b[0m\u001b[0mattempt\u001b[0m\u001b[0;34m)\u001b[0m\u001b[0;34m\u001b[0m\u001b[0;34m\u001b[0m\u001b[0m\n\u001b[0;32m---> 19\u001b[0;31m             \u001b[0msleep\u001b[0m\u001b[0;34m(\u001b[0m\u001b[0;36m60\u001b[0m\u001b[0;34m)\u001b[0m\u001b[0;34m\u001b[0m\u001b[0;34m\u001b[0m\u001b[0m\n\u001b[0m\u001b[1;32m     20\u001b[0m \u001b[0;34m\u001b[0m\u001b[0m\n\u001b[1;32m     21\u001b[0m \u001b[0;34m\u001b[0m\u001b[0m\n",
      "\u001b[0;31mKeyboardInterrupt\u001b[0m: "
     ]
    }
   ],
   "source": [
    "# loops through all locations\n",
    "error_count = 0\n",
    "id_lst = []\n",
    "for ids in location_ids:\n",
    "    for attempt in range(4):\n",
    "        try: \n",
    "            response = s.get(\n",
    "                url+'/v1/getFeeds',\n",
    "                params = {'key': key, 'location' : ids, 'type': 'gtfs', 'limit': 200\n",
    "\n",
    "                }\n",
    "            )\n",
    "            feeds = response.json()['results']['feeds']\n",
    "            id_lst.append(feeds[0]['id'])\n",
    "            sleep(1)\n",
    "            print(feeds[0]['id'])\n",
    "            break\n",
    "        except:\n",
    "            print(attempt)\n",
    "            sleep(60)\n",
    "\n",
    "\n",
    "id_lst"
   ]
  },
  {
   "cell_type": "code",
   "execution_count": 12,
   "metadata": {},
   "outputs": [
    {
     "data": {
      "text/plain": [
       "['mta/81',\n",
       " 'mta/80',\n",
       " 'port-authority-of-new-york-and-new-jersey/384',\n",
       " 'nyc-ferry/944',\n",
       " 'jfk-airtrain/433',\n",
       " 'mta/84']"
      ]
     },
     "execution_count": 12,
     "metadata": {},
     "output_type": "execute_result"
    }
   ],
   "source": [
    "id_lst\n"
   ]
  },
  {
   "cell_type": "code",
   "execution_count": 25,
   "metadata": {},
   "outputs": [
    {
     "name": "stdout",
     "output_type": "stream",
     "text": [
      "mta/81\n",
      "0\n",
      "1\n",
      "2\n",
      "3\n",
      "4\n",
      "mta/80\n",
      "0\n",
      "1\n",
      "2\n",
      "3\n",
      "4\n",
      "port-authority-of-new-york-and-new-jersey/384\n",
      "0\n",
      "1\n",
      "2\n",
      "3\n",
      "4\n",
      "nyc-ferry/944\n",
      "0\n",
      "1\n",
      "2\n",
      "3\n",
      "4\n",
      "jfk-airtrain/433\n",
      "0\n",
      "1\n",
      "2\n",
      "3\n",
      "4\n",
      "mta/84\n",
      "0\n",
      "1\n",
      "2\n",
      "3\n",
      "4\n"
     ]
    }
   ],
   "source": [
    "for row in id_lst:\n",
    "    print(row)\n",
    "    for attempt in range(5):\n",
    "\n",
    "        try:\n",
    "            response = s.get(\n",
    "                url+'/v1/getFeedVersions',\n",
    "                params = {'key': key, 'feed' : row, 'limit' : 999\n",
    "\n",
    "                }\n",
    "            )\n",
    "            feed_info = response.json()['results']['versions']\n",
    "            for version in feed_info:\n",
    "\n",
    "            # checks latest version to input date\n",
    "\n",
    "                if input_ts > version['ts']:\n",
    "\n",
    "                    # writes table for metadata\n",
    "\n",
    "                    op_name = version['f']['t']\n",
    "                    op_url = version['f']['u']['i']\n",
    "                    op_loc = version['f']['l']['t']\n",
    "                    op_id = version['f']['id']\n",
    "                    date_fetched = str(datetime.utcfromtimestamp(version['ts']).strftime('%Y-%m-%d'))\n",
    "                    earliest_calendar_date = str(datetime.strptime(version['d']['s'], '%Y%m%d').date())\n",
    "                    latest_calendar_date =  str(datetime.strptime(version['d']['f'], '%Y%m%d').date()) \n",
    "                    url = version['url']\n",
    "                    temp = list([op_name, op_url, op_loc, region, op_id, input_date, date_fetched, earliest_calendar_date,\n",
    "                               latest_calendar_date, url])\n",
    "                    output_feed_info.append(temp)\n",
    "\n",
    "                    # downloads gtfs\n",
    "\n",
    "                    urllib.request.urlretrieve(feed_info[1]['url'], \"../gtfs/feeds_\" + input_date + \"/\" + op_name + '-' + input_date + \".zip\")\n",
    "\n",
    "            break\n",
    "        except:\n",
    "            error_count = attempt\n",
    "            if attempt <3:\n",
    "                sleep(30)\n",
    "                print(attempt)\n",
    "            elif attempt < 5:\n",
    "                sleep(60)\n",
    "                print(attempt)\n",
    "            else: \n",
    "                break\n",
    "\n",
    "   "
   ]
  },
  {
   "cell_type": "code",
   "execution_count": 24,
   "metadata": {},
   "outputs": [
    {
     "data": {
      "text/plain": [
       "[['operator_name',\n",
       "  'operator_website',\n",
       "  'operator_location',\n",
       "  'operator_metro',\n",
       "  'feed_id',\n",
       "  'date_query',\n",
       "  'date_fetched',\n",
       "  'earliest_calendar_date',\n",
       "  'latest_calendar_date',\n",
       "  'transit_feeds_url'],\n",
       " ['MTA Bronx GTFS',\n",
       "  'http://mta.info/developers/download.html',\n",
       "  'Bronx, NY, USA',\n",
       "  'New York',\n",
       "  'mta/81',\n",
       "  '2020-05-01',\n",
       "  '2020-04-04',\n",
       "  '2020-01-18',\n",
       "  '2020-05-02',\n",
       "  'https://transitfeeds.com/p/mta/81/20200403/download'],\n",
       " ['MTA Bronx GTFS',\n",
       "  'http://mta.info/developers/download.html',\n",
       "  'Bronx, NY, USA',\n",
       "  'New York',\n",
       "  'mta/81',\n",
       "  '2020-05-01',\n",
       "  '2020-04-04',\n",
       "  '2020-01-18',\n",
       "  '2020-05-02',\n",
       "  'https://transitfeeds.com/p/mta/81/20200403/download'],\n",
       " ['MTA Bronx GTFS',\n",
       "  'http://mta.info/developers/download.html',\n",
       "  'Bronx, NY, USA',\n",
       "  'New York',\n",
       "  'mta/81',\n",
       "  '2020-05-01',\n",
       "  '2020-04-04',\n",
       "  '2020-01-18',\n",
       "  '2020-05-02',\n",
       "  'https://transitfeeds.com/p/mta/81/20200403/download'],\n",
       " ['MTA Bronx GTFS',\n",
       "  'http://mta.info/developers/download.html',\n",
       "  'Bronx, NY, USA',\n",
       "  'New York',\n",
       "  'mta/81',\n",
       "  '2020-05-01',\n",
       "  '2020-04-04',\n",
       "  '2020-01-18',\n",
       "  '2020-05-02',\n",
       "  'https://transitfeeds.com/p/mta/81/20200403/download'],\n",
       " ['MTA Bronx GTFS',\n",
       "  'http://mta.info/developers/download.html',\n",
       "  'Bronx, NY, USA',\n",
       "  'New York',\n",
       "  'mta/81',\n",
       "  '2020-05-01',\n",
       "  '2020-04-04',\n",
       "  '2020-01-18',\n",
       "  '2020-05-02',\n",
       "  'https://transitfeeds.com/p/mta/81/20200403/download'],\n",
       " ['MTA Bronx GTFS',\n",
       "  'http://mta.info/developers/download.html',\n",
       "  'Bronx, NY, USA',\n",
       "  'New York',\n",
       "  'mta/81',\n",
       "  '2020-05-01',\n",
       "  '2020-04-04',\n",
       "  '2020-01-18',\n",
       "  '2020-05-02',\n",
       "  'https://transitfeeds.com/p/mta/81/20200403/download']]"
      ]
     },
     "execution_count": 24,
     "metadata": {},
     "output_type": "execute_result"
    }
   ],
   "source": [
    "output_feed_info\n",
    "\n",
    "\n"
   ]
  },
  {
   "cell_type": "code",
   "execution_count": null,
   "metadata": {},
   "outputs": [],
   "source": []
  }
 ],
 "metadata": {
  "kernelspec": {
   "display_name": "Python 3",
   "language": "python",
   "name": "python3"
  },
  "language_info": {
   "codemirror_mode": {
    "name": "ipython",
    "version": 3
   },
   "file_extension": ".py",
   "mimetype": "text/x-python",
   "name": "python",
   "nbconvert_exporter": "python",
   "pygments_lexer": "ipython3",
   "version": "3.7.6"
  }
 },
 "nbformat": 4,
 "nbformat_minor": 4
}
