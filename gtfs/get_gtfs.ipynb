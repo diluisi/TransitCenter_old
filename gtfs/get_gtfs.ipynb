{
 "cells": [
  {
   "cell_type": "code",
   "execution_count": 10,
   "metadata": {},
   "outputs": [],
   "source": [
    "import gtfs_handler\n",
    "import sys\n",
    "import importlib\n",
    "sys.path.insert(1, '../utils')\n",
    "\n",
    "import utils"
   ]
  },
  {
   "cell_type": "code",
   "execution_count": 11,
   "metadata": {},
   "outputs": [
    {
     "data": {
      "text/plain": [
       "<module 'gtfs_handler' from '/Users/Rick/Documents/GitHub/TransitCenter/gtfs/gtfs_handler.py'>"
      ]
     },
     "execution_count": 11,
     "metadata": {},
     "output_type": "execute_result"
    }
   ],
   "source": [
    "importlib.reload(gtfs_handler)"
   ]
  },
  {
   "cell_type": "code",
   "execution_count": 7,
   "metadata": {},
   "outputs": [],
   "source": [
    "region = 'New York'\n",
    "extent = 'region'\n",
    "county_ids = utils.county_ids.get_county_ids(region, extent)\n",
    "input_date = '2020-03-06'\n",
    "xmin, xmax, ymin, ymax = utils.geometry.osm_bounds(region, county_ids, extent, file = False, raw = True)"
   ]
  },
  {
   "cell_type": "code",
   "execution_count": 8,
   "metadata": {},
   "outputs": [
    {
     "name": "stdout",
     "output_type": "stream",
     "text": [
      "Attempt: 0\n",
      "Attempt: 1\n",
      "Attempt: 0\n",
      "Attempt: 1\n",
      "Attempt: 0\n",
      "Attempt: 1\n",
      "Attempt: 0\n",
      "Attempt: 1\n",
      "Attempt: 0\n",
      "Attempt: 1\n",
      "Attempt: 0\n",
      "Attempt: 1\n",
      "Attempt: 0\n",
      "Attempt: 1\n",
      "Attempt: 0\n",
      "Attempt: 1\n"
     ]
    }
   ],
   "source": [
    "gtfs_handler.get.transit_feeds(region, county_ids, input_date, xmin, xmax, ymin, ymax)"
   ]
  },
  {
   "cell_type": "code",
   "execution_count": 12,
   "metadata": {},
   "outputs": [
    {
     "name": "stdout",
     "output_type": "stream",
     "text": [
      "['operator_name', 'url']\n",
      "['MTA New York City Transit', 'https://transitland-gtfs.s3.amazonaws.com/datastore-uploads/feed_version/e1b4c0325141345b8a445007eca6eff8fcb953d1.zip']\n",
      "['MTA New York City Transit', 'https://transitland-gtfs.s3.amazonaws.com/datastore-uploads/feed_version/5c2530d98edda61aff8f375ae0cd2b039d5415c7.zip']\n",
      "['MTA New York City Transit', 'https://transitland-gtfs.s3.amazonaws.com/datastore-uploads/feed_version/91816ce6c283f0b91c366918491d8dd9079c5625.zip']\n",
      "['MTA New York City Transit', 'https://transitland-gtfs.s3.amazonaws.com/datastore-uploads/feed_version/5d1d79e98230fc881b993013b0d5a0a32d26ad2a.zip']\n",
      "['MTA New York City Transit', 'https://transitland-gtfs.s3.amazonaws.com/datastore-uploads/feed_version/35382926525215f6ae07920343cda95469517f08.zip']\n",
      "['MTA New York City Transit', 'https://transitland-gtfs.s3.amazonaws.com/datastore-uploads/feed_version/1d1cb70ba24aac641088a7d4fcb575301e4aedf5.zip']\n",
      "['MTA New York City Transit', 'https://transitland-gtfs.s3.amazonaws.com/datastore-uploads/feed_version/4bf94c5c5b2f0220d11b0b74724fa3ee75e76c8f.zip']\n",
      "['MTA New York City Transit', 'https://transitland-gtfs.s3.amazonaws.com/datastore-uploads/feed_version/942aae3fbd6b3085ffd40b51c08ecac907ede406.zip']\n",
      "['MTA New York City Transit', 'https://transitland-gtfs.s3.amazonaws.com/datastore-uploads/feed_version/c81d149be23f81e26e4262bae4635ffa2c024393.zip']\n",
      "['Port Authority Trans-Hudson', 'https://transitland-gtfs.s3.amazonaws.com/datastore-uploads/feed_version/daaf0c50be6c0847f2aba8776344015d69cd4f14.zip']\n",
      "['New York City Department of Transportation', 'https://transitland-gtfs.s3.amazonaws.com/datastore-uploads/feed_version/26292bdf4ab7c53ac9f9d32a75a95cbb9e23df8a.zip']\n",
      "['CTTransit - New Haven', 'https://transitland-gtfs.s3.amazonaws.com/datastore-uploads/feed_version/25f0f5ee45bba73d694554139f527641235ae51f.zip']\n",
      "['CTTransit - Hartford', 'https://transitland-gtfs.s3.amazonaws.com/datastore-uploads/feed_version/25f0f5ee45bba73d694554139f527641235ae51f.zip']\n",
      "['MTA Metro-North Railroad', 'https://transitland-gtfs.s3.amazonaws.com/datastore-uploads/feed_version/c81d149be23f81e26e4262bae4635ffa2c024393.zip']\n",
      "['MTA Long Island Rail Road', 'https://transitland-gtfs.s3.amazonaws.com/datastore-uploads/feed_version/93dc2ab572245206edd39668bd7551d05d17420d.zip']\n",
      "['SEPTA', 'https://transitland-gtfs.s3.amazonaws.com/datastore-uploads/feed_version/25edd386d814e2ffa4e4bba0ca2e1d3a922bfa21.zip']\n",
      "['SEPTA', 'https://transitland-gtfs.s3.amazonaws.com/datastore-uploads/feed_version/15b4aed52638c8f8434f01c102f8dff24918576e.zip']\n",
      "['New Jersey Transit', 'https://transitland-gtfs.s3.amazonaws.com/datastore-uploads/feed_version/d24f540b02e9f122e371b5409240d4111ae43ba8.zip']\n",
      "['New Jersey Transit', 'https://transitland-gtfs.s3.amazonaws.com/datastore-uploads/feed_version/928b836abf5e3dcca33daa3ff0613c9191a781e1.zip']\n",
      "['Amtrak', 'https://transitland-gtfs.s3.amazonaws.com/datastore-uploads/feed_version/d2483076c78b6d8b12cf67a1fae7c4f5fa5aaad4.zip']\n",
      "['Amtrak Chartered Vehicle', 'https://transitland-gtfs.s3.amazonaws.com/datastore-uploads/feed_version/d2483076c78b6d8b12cf67a1fae7c4f5fa5aaad4.zip']\n",
      "['CTTransit - Stamford', 'https://transitland-gtfs.s3.amazonaws.com/datastore-uploads/feed_version/f11618882bb012cdb6abd2a742c787e0d6679a18.zip']\n",
      "['CTTransit - Stamford', 'https://transitland-gtfs.s3.amazonaws.com/datastore-uploads/feed_version/25f0f5ee45bba73d694554139f527641235ae51f.zip']\n",
      "['Shore Line East', 'https://transitland-gtfs.s3.amazonaws.com/datastore-uploads/feed_version/53e22181c7968281de99ea7971ae170da1da1054.zip']\n",
      "['Shore Line East', 'https://transitland-gtfs.s3.amazonaws.com/datastore-uploads/feed_version/c81d149be23f81e26e4262bae4635ffa2c024393.zip']\n",
      "['Peter Pan Bus Lines', 'https://transitland-gtfs.s3.amazonaws.com/datastore-uploads/feed_version/87a856575c4473443a304deb45f67805ce672ff2.zip']\n",
      "['Nassau Inter-County Express', 'https://transitland-gtfs.s3.amazonaws.com/datastore-uploads/feed_version/ef07df7f6a344beec1f2243641f1c625a7748ca4.zip']\n",
      "['Nassau Inter-County Express', 'https://transitland-gtfs.s3.amazonaws.com/datastore-uploads/feed_version/4edeebd08f4bb2d338e558087afaac82fbd31760.zip']\n",
      "['Norwalk Transit District', 'https://transitland-gtfs.s3.amazonaws.com/datastore-uploads/feed_version/dcde0c57d9c965f219bf40cb23866236b7ad62e0.zip']\n",
      "['Rhode Island Public Transit Authority', 'https://transitland-gtfs.s3.amazonaws.com/datastore-uploads/feed_version/636676bfc32163c9625d1c2b5ab4fe005b4d3279.zip']\n",
      "['Westchester County Bee-Line System', 'https://transitland-gtfs.s3.amazonaws.com/datastore-uploads/feed_version/dcc0cb43798aac7e950badbc9e24ec9138c6e92c.zip']\n",
      "['Seastreak', 'https://transitland-gtfs.s3.amazonaws.com/datastore-uploads/feed_version/8a2c6914d9ce2f6793ffdffc5982b96d7d47a0da.zip']\n",
      "['Downtown Alliance', 'https://transitland-gtfs.s3.amazonaws.com/datastore-uploads/feed_version/1bf536efb5decc74ae70e5fbc50f2310bf80913e.zip']\n",
      "['9 Town Transit', 'https://transitland-gtfs.s3.amazonaws.com/datastore-uploads/feed_version/43e496254714d13338c976f0c9f29f24f717654c.zip']\n",
      "['TappanZee Express', 'https://transitland-gtfs.s3.amazonaws.com/datastore-uploads/feed_version/b46e194102855730e0406dfe6ffff20b231e5f59.zip']\n",
      "['NYC Ferry', 'https://transitland-gtfs.s3.amazonaws.com/datastore-uploads/feed_version/c56b2c6d552f84d305da9da657a320570e58294f.zip']\n",
      "['NY Waterway', 'https://transitland-gtfs.s3.amazonaws.com/datastore-uploads/feed_version/44901a4b25e9f12da65a9209b479ef886b010e08.zip']\n",
      "['NY Waterway', 'https://transitland-gtfs.s3.amazonaws.com/datastore-uploads/feed_version/c81d149be23f81e26e4262bae4635ffa2c024393.zip']\n",
      "['Suffolk County Transit', 'https://transitland-gtfs.s3.amazonaws.com/datastore-uploads/feed_version/9d84537c526e7be9a282f26041a284b4e809aa7c.zip']\n",
      "['Greater Bridgeport Transit', 'https://transitland-gtfs.s3.amazonaws.com/datastore-uploads/feed_version/b6fa4533ddb8795c2c86bb26bd733a6d95de51a8.zip']\n",
      "['New York Shuttle', 'https://transitland-gtfs.s3.amazonaws.com/datastore-uploads/feed_version/06c4bcb28f4aa8c332e54e2b0c2da0d8fe7c792c.zip']\n",
      "['Scandlines', 'https://transitland-gtfs.s3.amazonaws.com/datastore-uploads/feed_version/11c15d9d2dc2a0cb4cbf4604032412742c012902.zip']\n",
      "['Strömma', 'https://transitland-gtfs.s3.amazonaws.com/datastore-uploads/feed_version/11c15d9d2dc2a0cb4cbf4604032412742c012902.zip']\n",
      "['Peter Pan Bonanza Division', 'https://transitland-gtfs.s3.amazonaws.com/datastore-uploads/feed_version/87a856575c4473443a304deb45f67805ce672ff2.zip']\n",
      "['VIA Rail', 'https://transitland-gtfs.s3.amazonaws.com/datastore-uploads/feed_version/a36ab485b0212f4e61cdcfcee6e1fff9eec286a2.zip']\n",
      "['Coach Company', 'https://transitland-gtfs.s3.amazonaws.com/datastore-uploads/feed_version/ef94126d4080ca6753881f509ff8fdeac5e2196d.zip']\n",
      "['JFK Airtrain', 'https://transitland-gtfs.s3.amazonaws.com/datastore-uploads/feed_version/eae666b2c6db0a00f6104899bb52bbe7a70c01a5.zip']\n",
      "['Southeast Area Transit District', 'https://transitland-gtfs.s3.amazonaws.com/datastore-uploads/feed_version/c7578185e1db8ce8004016096909fdcc643e0edf.zip']\n"
     ]
    }
   ],
   "source": [
    "gtfs_handler.get.transit_land(region, county_ids, input_date, xmin, xmax, ymin, ymax)"
   ]
  },
  {
   "cell_type": "code",
   "execution_count": null,
   "metadata": {},
   "outputs": [],
   "source": []
  }
 ],
 "metadata": {
  "kernelspec": {
   "display_name": "Python 3",
   "language": "python",
   "name": "python3"
  },
  "language_info": {
   "codemirror_mode": {
    "name": "ipython",
    "version": 3
   },
   "file_extension": ".py",
   "mimetype": "text/x-python",
   "name": "python",
   "nbconvert_exporter": "python",
   "pygments_lexer": "ipython3",
   "version": "3.7.6"
  }
 },
 "nbformat": 4,
 "nbformat_minor": 4
}
