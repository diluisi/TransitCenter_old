{
 "cells": [
  {
   "cell_type": "code",
   "execution_count": 69,
   "metadata": {},
   "outputs": [],
   "source": [
    "import gtfs_handler\n",
    "import sys\n",
    "import importlib\n",
    "\n",
    "sys.path.insert(1, '../utils')\n",
    "\n",
    "import utils"
   ]
  },
  {
   "cell_type": "code",
   "execution_count": 81,
   "metadata": {},
   "outputs": [
    {
     "data": {
      "text/plain": [
       "<module 'gtfs_handler' from '/Users/Rick/Documents/GitHub/TransitCenter/gtfs/gtfs_handler.py'>"
      ]
     },
     "execution_count": 81,
     "metadata": {},
     "output_type": "execute_result"
    }
   ],
   "source": [
    "importlib.reload(utils)\n",
    "importlib.reload(gtfs_handler)"
   ]
  },
  {
   "cell_type": "code",
   "execution_count": 79,
   "metadata": {},
   "outputs": [],
   "source": [
    "region = 'Chicago'\n",
    "extent = 'region'\n",
    "county_ids = utils.county_ids.get_county_ids(region, extent)\n",
    "input_date = '2020-06-15'\n",
    "xmin, xmax, ymin, ymax = utils.geometry.osm_bounds(region, county_ids, extent, file = False, raw = True)"
   ]
  },
  {
   "cell_type": "code",
   "execution_count": 82,
   "metadata": {},
   "outputs": [
    {
     "name": "stdout",
     "output_type": "stream",
     "text": [
      "['operator_name', 'url']\n",
      "['Chicago Transit Authority', 'https://transitland-gtfs.s3.amazonaws.com/datastore-uploads/feed_version/707a24aa3533efde6580d8577111ebe50d74668e.zip']\n",
      "['Pace Suburban Bus', 'https://transitland-gtfs.s3.amazonaws.com/datastore-uploads/feed_version/0d4ea8d89ee50cc313f386ea6ce4c3b0db8ecf74.zip']\n",
      "['Metra', 'https://transitland-gtfs.s3.amazonaws.com/datastore-uploads/feed_version/600df63cc8a388203fc2358e89605596dea00cfc.zip']\n",
      "['Amtrak', 'https://transitland-gtfs.s3.amazonaws.com/datastore-uploads/feed_version/d2483076c78b6d8b12cf67a1fae7c4f5fa5aaad4.zip']\n",
      "['Amtrak Chartered Vehicle', 'https://transitland-gtfs.s3.amazonaws.com/datastore-uploads/feed_version/d2483076c78b6d8b12cf67a1fae7c4f5fa5aaad4.zip']\n",
      "['Groome Transportation', 'https://transitland-gtfs.s3.amazonaws.com/datastore-uploads/feed_version/4d8762046587494602d97a55d90109f5fbc07957.zip']\n",
      "['Detroit Connector', 'https://transitland-gtfs.s3.amazonaws.com/datastore-uploads/feed_version/abb0757757017a7c11cc0da6abf87e0ba3553a82.zip']\n"
     ]
    }
   ],
   "source": [
    "gtfs_handler.get.transit_land(region, county_ids, input_date, xmin, xmax, ymin, ymax)"
   ]
  },
  {
   "cell_type": "code",
   "execution_count": 77,
   "metadata": {},
   "outputs": [
    {
     "name": "stdout",
     "output_type": "stream",
     "text": [
      "Attempt: 0\n",
      "Attempt: 1\n"
     ]
    }
   ],
   "source": [
    "feeds = gtfs_handler.get.transit_feeds(region, county_ids, input_date, xmin, xmax, ymin, ymax)"
   ]
  },
  {
   "cell_type": "code",
   "execution_count": null,
   "metadata": {},
   "outputs": [],
   "source": []
  }
 ],
 "metadata": {
  "kernelspec": {
   "display_name": "Python 3",
   "language": "python",
   "name": "python3"
  },
  "language_info": {
   "codemirror_mode": {
    "name": "ipython",
    "version": 3
   },
   "file_extension": ".py",
   "mimetype": "text/x-python",
   "name": "python",
   "nbconvert_exporter": "python",
   "pygments_lexer": "ipython3",
   "version": "3.7.6"
  }
 },
 "nbformat": 4,
 "nbformat_minor": 4
}
