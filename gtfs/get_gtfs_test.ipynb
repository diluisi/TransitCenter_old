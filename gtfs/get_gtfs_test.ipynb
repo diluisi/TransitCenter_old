{
 "cells": [
  {
   "cell_type": "code",
<<<<<<< Updated upstream
   "execution_count": 69,
=======
   "execution_count": 1,
>>>>>>> Stashed changes
   "metadata": {},
   "outputs": [],
   "source": [
    "import gtfs_handler\n",
    "import sys\n",
    "import importlib\n",
    "\n",
    "sys.path.insert(1, '../utils')\n",
    "\n",
    "import utils"
   ]
  },
  {
   "cell_type": "code",
<<<<<<< Updated upstream
   "execution_count": 81,
=======
   "execution_count": 2,
>>>>>>> Stashed changes
   "metadata": {},
   "outputs": [
    {
     "data": {
      "text/plain": [
       "<module 'gtfs_handler' from '/Users/Rick/Documents/GitHub/TransitCenter/gtfs/gtfs_handler.py'>"
      ]
     },
<<<<<<< Updated upstream
     "execution_count": 81,
=======
     "execution_count": 2,
>>>>>>> Stashed changes
     "metadata": {},
     "output_type": "execute_result"
    }
   ],
   "source": [
    "importlib.reload(utils)\n",
    "importlib.reload(gtfs_handler)"
   ]
  },
  {
   "cell_type": "code",
<<<<<<< Updated upstream
   "execution_count": 79,
   "metadata": {},
   "outputs": [],
   "source": [
    "region = 'Chicago'\n",
    "extent = 'region'\n",
    "county_ids = utils.county_ids.get_county_ids(region, extent)\n",
    "input_date = '2020-06-15'\n",
=======
   "execution_count": 7,
   "metadata": {},
   "outputs": [],
   "source": [
    "region = 'Boston'\n",
    "extent = 'region'\n",
    "county_ids = utils.county_ids.get_county_ids(region, extent)\n",
    "input_date = '2020-06-17'\n",
>>>>>>> Stashed changes
    "xmin, xmax, ymin, ymax = utils.geometry.osm_bounds(region, county_ids, extent, file = False, raw = True)"
   ]
  },
  {
   "cell_type": "code",
<<<<<<< Updated upstream
   "execution_count": 82,
=======
   "execution_count": 8,
>>>>>>> Stashed changes
   "metadata": {},
   "outputs": [
    {
     "name": "stdout",
     "output_type": "stream",
     "text": [
      "['operator_name', 'url']\n",
<<<<<<< Updated upstream
      "['Chicago Transit Authority', 'https://transitland-gtfs.s3.amazonaws.com/datastore-uploads/feed_version/707a24aa3533efde6580d8577111ebe50d74668e.zip']\n",
      "['Pace Suburban Bus', 'https://transitland-gtfs.s3.amazonaws.com/datastore-uploads/feed_version/0d4ea8d89ee50cc313f386ea6ce4c3b0db8ecf74.zip']\n",
      "['Metra', 'https://transitland-gtfs.s3.amazonaws.com/datastore-uploads/feed_version/600df63cc8a388203fc2358e89605596dea00cfc.zip']\n",
      "['Amtrak', 'https://transitland-gtfs.s3.amazonaws.com/datastore-uploads/feed_version/d2483076c78b6d8b12cf67a1fae7c4f5fa5aaad4.zip']\n",
      "['Amtrak Chartered Vehicle', 'https://transitland-gtfs.s3.amazonaws.com/datastore-uploads/feed_version/d2483076c78b6d8b12cf67a1fae7c4f5fa5aaad4.zip']\n",
      "['Groome Transportation', 'https://transitland-gtfs.s3.amazonaws.com/datastore-uploads/feed_version/4d8762046587494602d97a55d90109f5fbc07957.zip']\n",
      "['Detroit Connector', 'https://transitland-gtfs.s3.amazonaws.com/datastore-uploads/feed_version/abb0757757017a7c11cc0da6abf87e0ba3553a82.zip']\n"
=======
      "['CTTransit - Hartford', 'https://transitland-gtfs.s3.amazonaws.com/datastore-uploads/feed_version/887f4bf299981acd19cf44d711f0ab3062db206b.zip']\n",
      "['Massport', 'https://transitland-gtfs.s3.amazonaws.com/datastore-uploads/feed_version/893639e925185b050e214d8cbd3d97b572bf11c0.zip']\n",
      "['Massachusetts Bay Transportation Authority', 'https://transitland-gtfs.s3.amazonaws.com/datastore-uploads/feed_version/893639e925185b050e214d8cbd3d97b572bf11c0.zip']\n",
      "['Boston Harbor Islands National and State Park', 'https://transitland-gtfs.s3.amazonaws.com/datastore-uploads/feed_version/1d3f05edbdf6174b2ebae89169ecd01266e663a1.zip']\n",
      "['Pioneer Valley Transit Authority', 'https://transitland-gtfs.s3.amazonaws.com/datastore-uploads/feed_version/115b309aef8b72dc676d918ecce99cf977395ab9.zip']\n",
      "['Bay State Cruise Company', 'https://transitland-gtfs.s3.amazonaws.com/datastore-uploads/feed_version/a6a6ae58072acbc095868f3d95ed3f52ec937df9.zip']\n",
      "['Brockton Area Transit Authority', 'https://transitland-gtfs.s3.amazonaws.com/datastore-uploads/feed_version/de5825ca035edd7ad51589caf597b837b3ee288a.zip']\n",
      "['Cape Ann Transportation Authority', 'https://transitland-gtfs.s3.amazonaws.com/datastore-uploads/feed_version/8bb9477464e010f34ed66751598abd94618c641e.zip']\n",
      "['The Current', 'https://transitland-gtfs.s3.amazonaws.com/datastore-uploads/feed_version/edda4b23f1b06e0d717ab8a643ca99669873ba12.zip']\n",
      "['Cuttyhunk Ferry Co.', 'https://transitland-gtfs.s3.amazonaws.com/datastore-uploads/feed_version/697a42b6a664c6097387f4baba9af1c87aa2ef08.zip']\n",
      "['Hy-Line Cruises', 'https://transitland-gtfs.s3.amazonaws.com/datastore-uploads/feed_version/fcc0a7fd9a0944f49b71b387a3dd8a9c0a42575a.zip']\n",
      "['Merrimack Valley Regional Transit Authority', 'https://transitland-gtfs.s3.amazonaws.com/datastore-uploads/feed_version/261b2c840afa5b2685bcb75984d9708c2250b80a.zip']\n",
      "['Montachusett Regional Transit Authority', 'https://transitland-gtfs.s3.amazonaws.com/datastore-uploads/feed_version/946fa72b738c55d8d49ddc4dd60e37623ef2ed60.zip']\n",
      "['Patriot Party Boats', 'https://transitland-gtfs.s3.amazonaws.com/datastore-uploads/feed_version/0ac2a295c9fc1e692ded906010566968f227f37a.zip']\n",
      "['Vineyard Fast Ferry', 'https://transitland-gtfs.s3.amazonaws.com/datastore-uploads/feed_version/e7dfad9c30d1ad5728194e5ec532e8c93e71dd9f.zip']\n",
      "['Worcester Regional Transit Authority', 'https://transitland-gtfs.s3.amazonaws.com/datastore-uploads/feed_version/5823cf2cae3716ca7a4bb9825d4707afc768f56b.zip']\n",
      "['Amtrak', 'https://transitland-gtfs.s3.amazonaws.com/datastore-uploads/feed_version/d2483076c78b6d8b12cf67a1fae7c4f5fa5aaad4.zip']\n",
      "['Amtrak Chartered Vehicle', 'https://transitland-gtfs.s3.amazonaws.com/datastore-uploads/feed_version/d2483076c78b6d8b12cf67a1fae7c4f5fa5aaad4.zip']\n",
      "['Yankee Line', 'https://transitland-gtfs.s3.amazonaws.com/datastore-uploads/feed_version/5e6f25d4530af8c89668fb3e276be5670b149891.zip']\n",
      "[\"Martha's Vineyard Transit Authority\", 'https://transitland-gtfs.s3.amazonaws.com/datastore-uploads/feed_version/e5b44f5df9a28c248cd04b38e11a149bca4a3b45.zip']\n",
      "['Southeastern Regional Transit Authority', 'https://transitland-gtfs.s3.amazonaws.com/datastore-uploads/feed_version/65d3a9f48df0e4d62a00ebfc3ab077c2bee8b2a3.zip']\n",
      "['Peter Pan Bus Lines', 'https://transitland-gtfs.s3.amazonaws.com/datastore-uploads/feed_version/46b0b3e406f129f2c42a75f4f1e5a6dd4665ada7.zip']\n",
      "['MetroWest Regional Transit Authority', 'https://transitland-gtfs.s3.amazonaws.com/datastore-uploads/feed_version/5499c71f2346585e7b345b0a05d9d78035ca58ae.zip']\n",
      "['Lowell Regional Transit Authority', 'https://transitland-gtfs.s3.amazonaws.com/datastore-uploads/feed_version/3bc69f8dc2405fa993c2293dcd449eb6f50bf6e6.zip']\n",
      "['Greater Attleboro Taunton Regional Transit Authority', 'https://transitland-gtfs.s3.amazonaws.com/datastore-uploads/feed_version/262b25e133d163978488f5a39a16532264d23eab.zip']\n",
      "['Franklin Regional Transit Authority', 'https://transitland-gtfs.s3.amazonaws.com/datastore-uploads/feed_version/4c3f00792fad68755947679e714fd876506701d5.zip']\n",
      "['Bloom Bus', 'https://transitland-gtfs.s3.amazonaws.com/datastore-uploads/feed_version/cc5236a00ab09c644af350ff47c643fe0f33f8b2.zip']\n",
      "['Cape Cod Regional Transit Authority', 'https://transitland-gtfs.s3.amazonaws.com/datastore-uploads/feed_version/10b5facf3c43751ca48b209a2cc941a2cd4e3c79.zip']\n",
      "['Rhode Island Public Transit Authority', 'https://transitland-gtfs.s3.amazonaws.com/datastore-uploads/feed_version/3d5d240abcfe3b9625e4f74a079b7c808377a218.zip']\n",
      "['DATTCO', 'https://transitland-gtfs.s3.amazonaws.com/datastore-uploads/feed_version/d4d433c448453ca116d7ca2f9c9ec123efa8c9b0.zip']\n",
      "['Coach Company', 'https://transitland-gtfs.s3.amazonaws.com/datastore-uploads/feed_version/8051055d5ca19e054ff7d3ce30601b564fc32fa6.zip']\n",
      "['Block Island Ferry', 'https://transitland-gtfs.s3.amazonaws.com/datastore-uploads/feed_version/bb6c27eab89c8f5711c696cfa3155f5ffb1a3951.zip']\n",
      "['Seastreak', 'https://transitland-gtfs.s3.amazonaws.com/datastore-uploads/feed_version/6622222548371f9c8011b540eedc37702607d5c7.zip']\n",
      "['9 Town Transit', 'https://transitland-gtfs.s3.amazonaws.com/datastore-uploads/feed_version/54739d1796767de752692e08215b6850dc43e8f6.zip']\n",
      "['128 Business Council', 'https://transitland-gtfs.s3.amazonaws.com/datastore-uploads/feed_version/2b8d11f7f47bf44cbc1989e37c509185f7cd6a39.zip']\n",
      "['Massachusetts Area Express', 'https://transitland-gtfs.s3.amazonaws.com/datastore-uploads/feed_version/571ec2ab34e012e339ae83015d1c29880c07c9e7.zip']\n",
      "['Scandlines', 'https://transitland-gtfs.s3.amazonaws.com/datastore-uploads/feed_version/b3b663b73b021309e793cbd747f6f186e545299b.zip']\n",
      "['Gerts Busstrafik', 'https://transitland-gtfs.s3.amazonaws.com/datastore-uploads/feed_version/b3b663b73b021309e793cbd747f6f186e545299b.zip']\n",
      "['Strömma', 'https://transitland-gtfs.s3.amazonaws.com/datastore-uploads/feed_version/b3b663b73b021309e793cbd747f6f186e545299b.zip']\n",
      "['Metrowest Express', 'https://transitland-gtfs.s3.amazonaws.com/datastore-uploads/feed_version/e19824a2731a54c1474da02cfaa3f1bcff44680f.zip']\n",
      "['Peter Pan Bonanza Division', 'https://transitland-gtfs.s3.amazonaws.com/datastore-uploads/feed_version/46b0b3e406f129f2c42a75f4f1e5a6dd4665ada7.zip']\n",
      "['VIA Rail', 'https://transitland-gtfs.s3.amazonaws.com/datastore-uploads/feed_version/2c2928a9166ca16b4233ebc8b63fd69177e949d0.zip']\n",
      "['Logan Express', 'https://transitland-gtfs.s3.amazonaws.com/datastore-uploads/feed_version/ae7ab1aae5a4e4f09eaaa486da9daf2cdae21bba.zip']\n"
>>>>>>> Stashed changes
     ]
    }
   ],
   "source": [
    "gtfs_handler.get.transit_land(region, county_ids, input_date, xmin, xmax, ymin, ymax)"
   ]
  },
  {
   "cell_type": "code",
<<<<<<< Updated upstream
   "execution_count": 77,
=======
   "execution_count": 6,
>>>>>>> Stashed changes
   "metadata": {},
   "outputs": [
    {
     "name": "stdout",
     "output_type": "stream",
     "text": [
      "Attempt: 0\n",
<<<<<<< Updated upstream
=======
      "Attempt: 1\n",
      "Attempt: 0\n",
      "Attempt: 1\n",
      "Attempt: 0\n",
      "Attempt: 1\n",
      "Attempt: 0\n",
      "Attempt: 1\n",
      "Attempt: 0\n",
      "Attempt: 1\n",
      "Attempt: 0\n",
      "Attempt: 1\n",
      "Attempt: 0\n",
      "Attempt: 1\n",
      "Attempt: 0\n",
>>>>>>> Stashed changes
      "Attempt: 1\n"
     ]
    }
   ],
   "source": [
    "feeds = gtfs_handler.get.transit_feeds(region, county_ids, input_date, xmin, xmax, ymin, ymax)"
   ]
  },
  {
   "cell_type": "code",
   "execution_count": null,
   "metadata": {},
   "outputs": [],
   "source": []
  }
 ],
 "metadata": {
  "kernelspec": {
   "display_name": "Python 3",
   "language": "python",
   "name": "python3"
  },
  "language_info": {
   "codemirror_mode": {
    "name": "ipython",
    "version": 3
   },
   "file_extension": ".py",
   "mimetype": "text/x-python",
   "name": "python",
   "nbconvert_exporter": "python",
   "pygments_lexer": "ipython3",
   "version": "3.7.6"
  }
 },
 "nbformat": 4,
 "nbformat_minor": 4
}
