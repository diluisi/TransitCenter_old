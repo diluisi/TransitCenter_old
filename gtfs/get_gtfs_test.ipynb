{
 "cells": [
  {
   "cell_type": "code",
   "execution_count": 22,
   "metadata": {},
   "outputs": [],
   "source": [
    "import gtfs_handler\n",
    "import sys\n",
    "import importlib\n",
    "\n",
    "sys.path.insert(1, '../utils')\n",
    "\n",
    "import utils"
   ]
  },
  {
   "cell_type": "code",
   "execution_count": 23,
   "metadata": {},
   "outputs": [
    {
     "data": {
      "text/plain": [
       "<module 'utils' from '../utils/utils.py'>"
      ]
     },
     "execution_count": 23,
     "metadata": {},
     "output_type": "execute_result"
    }
   ],
   "source": [
    "importlib.reload(utils)"
   ]
  },
  {
   "cell_type": "code",
   "execution_count": 24,
   "metadata": {},
   "outputs": [],
   "source": [
    "region = 'District of Columbia'\n",
    "extent = 'region'\n",
    "county_ids = utils.county_ids.get_county_ids(region, extent)\n",
    "input_date = '2020-06-11'\n",
    "xmin, xmax, ymin, ymax = utils.geometry.osm_bounds(region, county_ids, extent, file = False, raw = True)"
   ]
  },
  {
   "cell_type": "code",
   "execution_count": 25,
   "metadata": {},
   "outputs": [
    {
     "name": "stdout",
     "output_type": "stream",
     "text": [
      "['transitland_feed_id', 'transitland_historical_url']\n",
      "['f-dq-mtamaryland', 'https://transitland-gtfs.s3.amazonaws.com/datastore-uploads/feed_version/276e3baf4e4a57a6f9c7480e45d7030ffe4c80a3.zip']\n",
      "['f-dqc-wmata', 'https://transitland-gtfs.s3.amazonaws.com/datastore-uploads/feed_version/240eef32b74cbdd1c6a6d7f3ad3107e96102acf4.zip']\n",
      "['f-dqcjr-dccirculator', 'https://transitland-gtfs.s3.amazonaws.com/datastore-uploads/feed_version/45ae34c79b11477bbde907657bcc512ea79ff1e1.zip']\n",
      "['f-dqcj-fairfaxconnector', 'https://transitland-gtfs.s3.amazonaws.com/datastore-uploads/feed_version/9bb0c38fe65556a0ee081a1b170f22657e11f9f0.zip']\n",
      "['f-dqc-virginiarailwayexpress', 'https://transitland-gtfs.s3.amazonaws.com/datastore-uploads/feed_version/04c81bfda4a92dd83c8bfa7745702f018e31eec1.zip']\n",
      "['f-dr09-washingtoncountycommuter', 'https://transitland-gtfs.s3.amazonaws.com/datastore-uploads/feed_version/87334c376eb91ab13206975114aff41196f58eb7.zip']\n",
      "['f-dr1-rabbittransit', 'https://transitland-gtfs.s3.amazonaws.com/datastore-uploads/feed_version/1712494b70ddc18fbcde8e360ebe2dc7cbe0e9d9.zip']\n",
      "['f-dqc-montgomerycountymdrideon', 'https://transitland-gtfs.s3.amazonaws.com/datastore-uploads/feed_version/4d9591537ed7e8ea343ab26146bbce24768e2066.zip']\n",
      "['f-dqcjj-arlingtontransit', 'https://transitland-gtfs.s3.amazonaws.com/datastore-uploads/feed_version/10f2801a122dafc411e5b181f0d058ee9f4674ad.zip']\n",
      "['f-dqcq-regionaltransportationagencyofcentralmaryland', 'https://transitland-gtfs.s3.amazonaws.com/datastore-uploads/feed_version/00cef61103d3c8a4065c37df7688bc524728a41e.zip']\n",
      "['f-dqchv-alexandriatransitcompanydash', 'https://transitland-gtfs.s3.amazonaws.com/datastore-uploads/feed_version/3410edd907064e9a1d4f0a6f989d63b502403337.zip']\n",
      "['f-dqcx8-charmcitycirculator', 'https://transitland-gtfs.s3.amazonaws.com/datastore-uploads/feed_version/c2638df20c382fb5f5b79e228c6e99ba350d069e.zip']\n",
      "['f-dqcqz-bwithurgoodmarshallairport', 'https://transitland-gtfs.s3.amazonaws.com/datastore-uploads/feed_version/b637f9a583078dbb8f339472bd8ef358d326663c.zip']\n",
      "['f-dqch-prtc', 'https://transitland-gtfs.s3.amazonaws.com/datastore-uploads/feed_version/e5f99674e900c5668922adb35b655b838dd4fd1e.zip']\n",
      "['f-9-amtrak~amtrakcalifornia~amtrakcharteredvehicle', 'https://transitland-gtfs.s3.amazonaws.com/datastore-uploads/feed_version/d2483076c78b6d8b12cf67a1fae7c4f5fa5aaad4.zip']\n",
      "['f-dr-peterpanbuslines', 'https://transitland-gtfs.s3.amazonaws.com/datastore-uploads/feed_version/46b0b3e406f129f2c42a75f4f1e5a6dd4665ada7.zip']\n",
      "['f-dqc-thebusofprincegeorgescounty', 'https://transitland-gtfs.s3.amazonaws.com/datastore-uploads/feed_version/789e99dcf98ff0f7d7cf03ca4763a17da6cb178b.zip']\n",
      "['f-dqc-stmarystransitsystem', 'https://transitland-gtfs.s3.amazonaws.com/datastore-uploads/feed_version/3de725742a03929e1273eefda0f98e5091411b93.zip']\n",
      "['f-dr10-carrolltransitsystem~carrollareatransitsystemcats', 'https://transitland-gtfs.s3.amazonaws.com/datastore-uploads/feed_version/30153ff94be7ff16d885aa63c6f1ea39842a3d26.zip']\n",
      "['f-dqce-calvertcountypublictransportation', 'https://transitland-gtfs.s3.amazonaws.com/datastore-uploads/feed_version/3747117e0056cf47d1d4e0026d2b19fdcc44415f.zip']\n",
      "['f-dqcj1-fairfaxcue', 'https://transitland-gtfs.s3.amazonaws.com/datastore-uploads/feed_version/35bdaa8ceb3a1216d98f6df8f7fb3866f72a3bca.zip']\n",
      "['f-dr0b-transitservicesoffrederickcounty', 'https://transitland-gtfs.s3.amazonaws.com/datastore-uploads/feed_version/729d2426ac3be8a79872266ddc2bf94e88f51f74.zip']\n",
      "['f-dqc7-charlescountyvango', 'https://transitland-gtfs.s3.amazonaws.com/datastore-uploads/feed_version/6702ceea61978abe007c46d3e3c4965c9d3854c5.zip']\n",
      "['f-dqcm2-dcstreetcar', 'https://transitland-gtfs.s3.amazonaws.com/datastore-uploads/feed_version/659e3bd33080b3fcbb5fff0eab3af10f482255fb.zip']\n",
      "['f-dq-newyorkshuttle', 'https://transitland-gtfs.s3.amazonaws.com/datastore-uploads/feed_version/06c4bcb28f4aa8c332e54e2b0c2da0d8fe7c792c.zip']\n",
      "['f-dqcn-montgomerycountymdrideon', 'https://transitland-gtfs.s3.amazonaws.com/datastore-uploads/feed_version/740592850f5caf3a8dd6ff2b725d59b008c325ab.zip']\n",
      "['f-u-se', 'https://transitland-gtfs.s3.amazonaws.com/datastore-uploads/feed_version/b3b663b73b021309e793cbd747f6f186e545299b.zip']\n"
     ]
    }
   ],
   "source": [
    "gtfs_handler.get.get_gtfs(region, county_ids, input_date, xmin, xmax, ymin, ymax)"
   ]
  },
  {
   "cell_type": "code",
   "execution_count": null,
   "metadata": {},
   "outputs": [],
   "source": []
  }
 ],
 "metadata": {
  "kernelspec": {
   "display_name": "Python 3",
   "language": "python",
   "name": "python3"
  },
  "language_info": {
   "codemirror_mode": {
    "name": "ipython",
    "version": 3
   },
   "file_extension": ".py",
   "mimetype": "text/x-python",
   "name": "python",
   "nbconvert_exporter": "python",
   "pygments_lexer": "ipython3",
   "version": "3.7.6"
  }
 },
 "nbformat": 4,
 "nbformat_minor": 4
}
