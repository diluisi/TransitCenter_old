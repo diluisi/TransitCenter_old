{
 "cells": [
  {
   "cell_type": "code",
   "execution_count": 40,
   "metadata": {},
   "outputs": [],
   "source": [
    "import requests\n",
    "import csv\n",
    "import os\n",
    "import urllib\n",
    "import sys\n",
    "import importlib\n",
    "import pandas as pd\n",
    "from shapely.geometry import Point, Polygon\n",
    "import time\n",
    "import datetime\n",
    "from datetime import datetime\n",
    "from datetime import timedelta  \n",
    "from time import sleep\n",
    "import geopandas \n",
    "\n",
    "sys.path.insert(1, '../utils')\n",
    "\n",
    "import utils"
   ]
  },
  {
   "cell_type": "code",
   "execution_count": 41,
   "metadata": {},
   "outputs": [],
   "source": [
    "s = requests.Session()"
   ]
  },
  {
   "cell_type": "code",
   "execution_count": 80,
   "metadata": {},
   "outputs": [
    {
     "data": {
      "text/plain": [
       "<module 'utils' from '../utils/utils.py'>"
      ]
     },
     "execution_count": 80,
     "metadata": {},
     "output_type": "execute_result"
    }
   ],
   "source": [
    "importlib.reload(utils)"
   ]
  },
  {
   "cell_type": "code",
   "execution_count": 81,
   "metadata": {},
   "outputs": [],
   "source": [
    "region = 'District of Columbia'\n",
    "extent = 'region'\n",
    "county_ids = utils.county_ids.get_county_ids(region, extent)\n",
    "input_date = '2020-06-10'\n",
    "input_ts = time.mktime(datetime.strptime(input_date, \"%Y-%m-%d\").timetuple())\n",
    "xmin, xmax, ymin, ymax = utils.geometry.osm_bounds(region, county_ids, extent, file = False, raw = True)\n",
    "\n",
    "url = 'https://api.transitfeeds.com'"
   ]
  },
  {
   "cell_type": "code",
   "execution_count": 82,
   "metadata": {},
   "outputs": [],
   "source": [
    "# bounding box\n",
    "\n",
    "coords = [(xmin, ymin), (xmin, ymax), (xmax, ymax), (xmax, ymin)]\n",
    "poly = Polygon(coords)"
   ]
  },
  {
   "cell_type": "code",
   "execution_count": 83,
   "metadata": {},
   "outputs": [],
   "source": [
    "# api key\n",
    "\n",
    "#key = '9efe3e4d-9b04-467c-9c72-0cc3cf666fd0'\n",
    "key = 'f2a91a7e-154d-434a-8083-2cd18e25f3d2'"
   ]
  },
  {
   "cell_type": "code",
   "execution_count": 84,
   "metadata": {},
   "outputs": [],
   "source": [
    "output_feed_info = [list(['operator_name', 'operator_website', 'operator_location', 'operator_metro', 'feed_id', 'date_query', \n",
    "                         'date_fetched', 'earliest_calendar_date', 'latest_calendar_date', 'transit_feeds_url'])]"
   ]
  },
  {
   "cell_type": "code",
   "execution_count": 85,
   "metadata": {},
   "outputs": [],
   "source": [
    "# gets all available locations on transit feeds\n",
    "\n",
    "response = s.get(\n",
    "    url+'/v1/getLocations',\n",
    "    params = {'key': key\n",
    "       \n",
    "    }\n",
    ")\n",
    "locations = response.json()['results']['locations']\n",
    "sleep(15)"
   ]
  },
  {
   "cell_type": "code",
   "execution_count": 86,
   "metadata": {
    "scrolled": false
   },
   "outputs": [],
   "source": [
    "# filters locations to only those within bounding box\n",
    "\n",
    "location_ids = []\n",
    "for operator in locations:\n",
    "    pt = Point(operator['lng'], operator['lat'])\n",
    "    if pt.within(poly) is True: \n",
    "        location_ids.append(operator['id'])"
   ]
  },
  {
   "cell_type": "code",
   "execution_count": 87,
   "metadata": {},
   "outputs": [],
   "source": [
    "os.makedirs(\"../gtfs/feeds_\" + input_date, exist_ok=True)"
   ]
  },
  {
   "cell_type": "code",
   "execution_count": 88,
   "metadata": {},
   "outputs": [],
   "source": [
    "# loops through all locations\n",
    "error_count = 0\n",
    "id_lst = []\n",
    "for ids in location_ids:\n",
    "    for attempt in range(4):\n",
    "        try: \n",
    "            response = s.get(\n",
    "                url+'/v1/getFeeds',\n",
    "                params = {'key': key, 'location' : ids, 'type': 'gtfs', 'limit': 200\n",
    "\n",
    "                }\n",
    "            )\n",
    "            feeds = response.json()['results']['feeds']\n",
    "            for agencies in feeds:\n",
    "                ts = agencies['latest']['ts']\n",
    "                dt_str = str(datetime.utcfromtimestamp(ts).strftime('%Y-%m-%d'))\n",
    "                name = agencies['t']\n",
    "                loc = agencies['l']['t']\n",
    "                dt_fetched = str(datetime.utcfromtimestamp(ts).strftime('%Y%m%d'))\n",
    "                id_lst.append(list([agencies['id'], dt_fetched, name, loc, dt_str]))\n",
    "            sleep(1)\n",
    "            break\n",
    "        except:\n",
    "            print(attempt)\n",
    "            sleep(10)\n"
   ]
  },
  {
   "cell_type": "code",
   "execution_count": 89,
   "metadata": {},
   "outputs": [],
   "source": [
    "gtfs_url = 'https://transitfeeds.com/p/'"
   ]
  },
  {
   "cell_type": "code",
   "execution_count": 90,
   "metadata": {},
   "outputs": [
    {
     "name": "stdout",
     "output_type": "stream",
     "text": [
      "alexandria-transit-company/423\n",
      "arlington-transit/149\n",
      "carroll-area-transit-system/569\n",
      "fairfax-cue/1042\n",
      "fairfax-connector/295\n",
      "central-maryland-regional-transit/297\n",
      "saint-marys-transit-system/1147\n",
      "frederick-county-transit/1082\n",
      "washington-county-transit/1081\n",
      "delmarva-community-transit/1079\n",
      "charles-county-vango/1078\n",
      "calvert-county-public-transportation/1077\n",
      "charm-city-circulator/1041\n",
      "regional-transportation-agency-of-central-maryland/574\n",
      "mta-maryland/247\n",
      "montgomery-county-department-of-transportation/235\n",
      "prince-georges-county-thebus/1052\n",
      "wmata/884\n",
      "wmata/883\n",
      "wmata/75\n",
      "prtc/357\n"
     ]
    }
   ],
   "source": [
    "for agency in id_lst:\n",
    "    print(agency[0])\n",
    "    \n",
    "    # to account for timezone issues\n",
    "    for attempt in range(3):\n",
    "        try:\n",
    "            if attempt == 0:\n",
    "                url = gtfs_url + agency[0] + '/' + agency[1] + '/download'\n",
    "                urllib.request.urlretrieve(url, \"../gtfs/feeds_\" + input_date + \n",
    "                                       \"/\" + agency[2] + '-' + input_date + \".zip\")\n",
    "                break\n",
    "            elif attempt == 1:\n",
    "                bkwd_dt = str((datetime.strptime(id_lst[0][1], '%Y%m%d') + timedelta(days=1)).date().strftime('%Y%m%d'))   \n",
    "                url = gtfs_url + agency[0] + '/' + bkwd_dt + '/download'\n",
    "                urllib.request.urlretrieve(url, \"../gtfs/feeds_\" + input_date + \n",
    "                                       \"/\" + agency[2] + '-' + input_date + \".zip\")\n",
    "                break\n",
    "            elif attempt == 2:\n",
    "                fwd_dt = str((datetime.strptime(id_lst[0][1], '%Y%m%d') - timedelta(days=1)).date().strftime('%Y%m%d'))   \n",
    "                url = gtfs_url + agency[0] + '/' + fwd_dt + '/download'\n",
    "                urllib.request.urlretrieve(url, \"../gtfs/feeds_\" + input_date + \n",
    "                                       \"/\" + agency[2] + '-' + input_date + \".zip\")\n",
    "                break\n",
    "            else:\n",
    "                print('Skipping due to error')\n",
    "        except:\n",
    "            pass"
   ]
  },
  {
   "cell_type": "code",
   "execution_count": 91,
   "metadata": {},
   "outputs": [],
   "source": [
    "with open(\"../gtfs/feeds_\" + input_date + \"/\" + region + \"_feed_info_\" + input_date + \".csv\", \"w\") as csvfile:\n",
    "    writer = csv.writer(csvfile)\n",
    "    for row in id_lst:\n",
    "        writer.writerow(row)"
   ]
  },
  {
   "cell_type": "code",
   "execution_count": null,
   "metadata": {},
   "outputs": [],
   "source": []
  }
 ],
 "metadata": {
  "kernelspec": {
   "display_name": "Python 3",
   "language": "python",
   "name": "python3"
  },
  "language_info": {
   "codemirror_mode": {
    "name": "ipython",
    "version": 3
   },
   "file_extension": ".py",
   "mimetype": "text/x-python",
   "name": "python",
   "nbconvert_exporter": "python",
   "pygments_lexer": "ipython3",
   "version": "3.7.6"
  }
 },
 "nbformat": 4,
 "nbformat_minor": 4
}
