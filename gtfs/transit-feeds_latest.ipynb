{
 "cells": [
  {
   "cell_type": "code",
   "execution_count": 1,
   "metadata": {},
   "outputs": [],
   "source": [
    "import requests\n",
    "import csv\n",
    "import os\n",
    "import urllib\n",
    "import sys\n",
    "import importlib\n",
    "import pandas as pd\n",
    "from shapely.geometry import Point, Polygon\n",
    "import time\n",
    "import datetime\n",
    "from datetime import datetime\n",
    "from time import sleep\n",
    "import geopandas \n",
    "\n",
    "sys.path.insert(1, '../utils')\n",
    "\n",
    "import utils"
   ]
  },
  {
   "cell_type": "code",
   "execution_count": 2,
   "metadata": {},
   "outputs": [],
   "source": [
    "s = requests.Session()"
   ]
  },
  {
   "cell_type": "code",
   "execution_count": 3,
   "metadata": {},
   "outputs": [
    {
     "data": {
      "text/plain": [
       "<module 'utils' from '../utils/utils.py'>"
      ]
     },
     "execution_count": 3,
     "metadata": {},
     "output_type": "execute_result"
    }
   ],
   "source": [
    "importlib.reload(utils)"
   ]
  },
  {
   "cell_type": "code",
   "execution_count": 4,
   "metadata": {},
   "outputs": [],
   "source": [
    "region = 'New York'\n",
    "extent = 'region'\n",
    "county_ids = utils.county_ids.get_county_ids(region, extent)\n",
    "input_date = '2020-05-01'\n",
    "input_ts = time.mktime(datetime.strptime(input_date, \"%Y-%m-%d\").timetuple())\n",
    "xmin, xmax, ymin, ymax = utils.geometry.osm_bounds(region, county_ids, extent, file = False, raw = True)\n",
    "\n",
    "url = 'https://api.transitfeeds.com'"
   ]
  },
  {
   "cell_type": "code",
   "execution_count": 5,
   "metadata": {},
   "outputs": [],
   "source": [
    "# bounding box\n",
    "\n",
    "coords = [(xmin, ymin), (xmin, ymax), (xmax, ymax), (xmax, ymin)]\n",
    "poly = Polygon(coords)"
   ]
  },
  {
   "cell_type": "code",
   "execution_count": 6,
   "metadata": {},
   "outputs": [],
   "source": [
    "# api key\n",
    "\n",
    "#key = '9efe3e4d-9b04-467c-9c72-0cc3cf666fd0'\n",
    "key = 'f2a91a7e-154d-434a-8083-2cd18e25f3d2'"
   ]
  },
  {
   "cell_type": "code",
   "execution_count": 7,
   "metadata": {},
   "outputs": [],
   "source": [
    "output_feed_info = [list(['operator_name', 'operator_website', 'operator_location', 'operator_metro', 'feed_id', 'date_query', \n",
    "                         'date_fetched', 'earliest_calendar_date', 'latest_calendar_date', 'transit_feeds_url'])]"
   ]
  },
  {
   "cell_type": "code",
   "execution_count": 8,
   "metadata": {},
   "outputs": [],
   "source": [
    "# gets all available locations on transit feeds\n",
    "\n",
    "response = s.get(\n",
    "    url+'/v1/getLocations',\n",
    "    params = {'key': key\n",
    "       \n",
    "    }\n",
    ")\n",
    "locations = response.json()['results']['locations']\n",
    "sleep(15)"
   ]
  },
  {
   "cell_type": "code",
   "execution_count": 9,
   "metadata": {
    "scrolled": false
   },
   "outputs": [],
   "source": [
    "# filters locations to only those within bounding box\n",
    "\n",
    "location_ids = []\n",
    "for operator in locations:\n",
    "    pt = Point(operator['lng'], operator['lat'])\n",
    "    if pt.within(poly) is True: \n",
    "        location_ids.append(operator['id'])"
   ]
  },
  {
   "cell_type": "code",
   "execution_count": 23,
   "metadata": {},
   "outputs": [],
   "source": [
    "# loops through all locations\n",
    "error_count = 0\n",
    "id_lst = []\n",
    "for ids in location_ids:\n",
    "    for attempt in range(4):\n",
    "        try: \n",
    "            response = s.get(\n",
    "                url+'/v1/getFeeds',\n",
    "                params = {'key': key, 'location' : ids, 'type': 'gtfs', 'limit': 200\n",
    "\n",
    "                }\n",
    "            )\n",
    "            feeds = response.json()['results']['feeds']\n",
    "            for agencies in feeds:\n",
    "                ts = agencies['latest']['ts']\n",
    "                dt_str = str(datetime.utcfromtimestamp(ts).strftime('%Y-%m-%d'))\n",
    "                name = agencies['t']\n",
    "                loc = agencies['l']['t']\n",
    "                dt_fetched = str(datetime.utcfromtimestamp(ts).strftime('%Y%m%d'))\n",
    "                id_lst.append(list([agencies['id'], dt_fetched, name, loc, dt_str]))\n",
    "            sleep(1)\n",
    "            break\n",
    "        except:\n",
    "            print(attempt)\n",
    "            sleep(10)\n",
    "\n",
    "# check for duplicates"
   ]
  },
  {
   "cell_type": "code",
   "execution_count": 24,
   "metadata": {},
   "outputs": [
    {
     "data": {
      "text/plain": [
       "[['greater-bridgeport-transit/1022',\n",
       "  '20191221',\n",
       "  'Greater Bridgeport Transit GTFS',\n",
       "  'Bridgeport, CT, USA',\n",
       "  '2019-12-21'],\n",
       " ['mta/81', '20200606', 'MTA Bronx GTFS', 'Bronx, NY, USA', '2020-06-06'],\n",
       " ['mta/80',\n",
       "  '20200605',\n",
       "  'MTA Brooklyn GTFS',\n",
       "  'Brooklyn, NY, USA',\n",
       "  '2020-06-05'],\n",
       " ['port-authority-of-new-york-and-new-jersey/384',\n",
       "  '20200530',\n",
       "  'PATH GTFS',\n",
       "  'Jersey City, NJ, USA',\n",
       "  '2020-05-30'],\n",
       " ['suffolk-county-transit/1121',\n",
       "  '20200116',\n",
       "  'Suffolk County Transit GTFS',\n",
       "  'Long Island, New York, USA',\n",
       "  '2020-01-16'],\n",
       " ['mta/86',\n",
       "  '20200609',\n",
       "  'Long Island Rail Road GTFS',\n",
       "  'Long Island, New York, USA',\n",
       "  '2020-06-09'],\n",
       " ['nassau-inter-county-express/268',\n",
       "  '20170118',\n",
       "  'NICE GTFS',\n",
       "  'Nassau, NY, USA',\n",
       "  '2017-01-18'],\n",
       " ['connecticut-transit/322',\n",
       "  '20170310',\n",
       "  'CT Transit New Haven GTFS',\n",
       "  'New Haven, CT, USA',\n",
       "  '2017-03-10'],\n",
       " ['patco/533', '20191211', 'PATCO Speedline', 'New Jersey, USA', '2019-12-11'],\n",
       " ['nj-transit/409',\n",
       "  '20200502',\n",
       "  'NJ Transit Bus GTFS',\n",
       "  'New Jersey, USA',\n",
       "  '2020-05-02'],\n",
       " ['nj-transit/408',\n",
       "  '20200422',\n",
       "  'NJ Transit Rail GTFS',\n",
       "  'New Jersey, USA',\n",
       "  '2020-04-22'],\n",
       " ['nyc-ferry/944',\n",
       "  '20200610',\n",
       "  'NYC Ferry GTFS',\n",
       "  'New York, NY, USA',\n",
       "  '2020-06-10'],\n",
       " ['mta/886',\n",
       "  '20200610',\n",
       "  'NYC Subway Supplemented GTFS',\n",
       "  'New York, NY, USA',\n",
       "  '2020-06-10'],\n",
       " ['nyc-dot/281',\n",
       "  '20200609',\n",
       "  'Staten Island Ferry GTFS',\n",
       "  'New York, NY, USA',\n",
       "  '2020-06-09'],\n",
       " ['mta/87',\n",
       "  '20200610',\n",
       "  'Metro-North Railroad GTFS',\n",
       "  'New York, NY, USA',\n",
       "  '2020-06-10'],\n",
       " ['mta/85',\n",
       "  '20200606',\n",
       "  'NYC Bus Company GTFS',\n",
       "  'New York, NY, USA',\n",
       "  '2020-06-06'],\n",
       " ['mta/82',\n",
       "  '20200606',\n",
       "  'MTA Manhattan GTFS',\n",
       "  'New York, NY, USA',\n",
       "  '2020-06-06'],\n",
       " ['mta/79', '20200430', 'NYC Subway GTFS', 'New York, NY, USA', '2020-04-30'],\n",
       " ['jfk-airtrain/433',\n",
       "  '20200217',\n",
       "  'JFK Airtrain GTFS',\n",
       "  'Queens, NY, USA',\n",
       "  '2020-02-17'],\n",
       " ['mta/83', '20200606', 'MTA Queens GTFS', 'Queens, NY, USA', '2020-06-06'],\n",
       " ['connecticut-transit/321',\n",
       "  '20180724',\n",
       "  'CT Transit Stamford GTFS',\n",
       "  'Stamford, CT, USA',\n",
       "  '2018-07-24'],\n",
       " ['mta/84',\n",
       "  '20200605',\n",
       "  'MTA Staten Island GTFS',\n",
       "  'Staten Island, NY, USA',\n",
       "  '2020-06-05'],\n",
       " ['westchester-county-department-of-transportation/434',\n",
       "  '20200306',\n",
       "  'WCDOT GTFS',\n",
       "  'Westchester County, NY, USA',\n",
       "  '2020-03-06']]"
      ]
     },
     "execution_count": 24,
     "metadata": {},
     "output_type": "execute_result"
    }
   ],
   "source": [
    "id_lst"
   ]
  },
  {
   "cell_type": "code",
   "execution_count": 25,
   "metadata": {},
   "outputs": [],
   "source": [
    "gtfs_url = 'https://transitfeeds.com/p/'"
   ]
  },
  {
   "cell_type": "code",
   "execution_count": 27,
   "metadata": {},
   "outputs": [
    {
     "ename": "NameError",
     "evalue": "name 'op_name' is not defined",
     "output_type": "error",
     "traceback": [
      "\u001b[0;31m---------------------------------------------------------------------------\u001b[0m",
      "\u001b[0;31mNameError\u001b[0m                                 Traceback (most recent call last)",
      "\u001b[0;32m<ipython-input-27-d0bd157caa9e>\u001b[0m in \u001b[0;36m<module>\u001b[0;34m\u001b[0m\n\u001b[1;32m      2\u001b[0m     \u001b[0murl\u001b[0m \u001b[0;34m=\u001b[0m \u001b[0mgtfs_url\u001b[0m \u001b[0;34m+\u001b[0m \u001b[0magency\u001b[0m\u001b[0;34m[\u001b[0m\u001b[0;36m0\u001b[0m\u001b[0;34m]\u001b[0m \u001b[0;34m+\u001b[0m \u001b[0;34m'/'\u001b[0m \u001b[0;34m+\u001b[0m \u001b[0magency\u001b[0m\u001b[0;34m[\u001b[0m\u001b[0;36m1\u001b[0m\u001b[0;34m]\u001b[0m \u001b[0;34m+\u001b[0m \u001b[0;34m'/download'\u001b[0m\u001b[0;34m\u001b[0m\u001b[0;34m\u001b[0m\u001b[0m\n\u001b[1;32m      3\u001b[0m     urllib.request.urlretrieve(url, \"../gtfs/feeds_\" + input_date + \n\u001b[0;32m----> 4\u001b[0;31m                            \"/\" + op_name + '-' + input_date + \".zip\")\n\u001b[0m",
      "\u001b[0;31mNameError\u001b[0m: name 'op_name' is not defined"
     ]
    }
   ],
   "source": [
    "for agency in id_lst:\n",
    "    url = gtfs_url + agency[0] + '/' + agency[1] + '/download'\n",
    "    urllib.request.urlretrieve(url, \"../gtfs/feeds_\" + input_date + \n",
    "                           \"/\" + agency[1] + '-' + input_date + \".zip\")"
   ]
  },
  {
   "cell_type": "code",
   "execution_count": null,
   "metadata": {},
   "outputs": [],
   "source": [
    "with open(\"../gtfs/feeds_\" + input_date + \"/\" + region + \"_feed_info_\" + input_date + \".csv\", \"w\") as csvfile:\n",
    "    writer = csv.writer(csvfile)\n",
    "    for row in id_lst:\n",
    "        writer.writerow(row)"
   ]
  },
  {
   "cell_type": "code",
   "execution_count": null,
   "metadata": {},
   "outputs": [],
   "source": []
  }
 ],
 "metadata": {
  "kernelspec": {
   "display_name": "Python 3",
   "language": "python",
   "name": "python3"
  },
  "language_info": {
   "codemirror_mode": {
    "name": "ipython",
    "version": 3
   },
   "file_extension": ".py",
   "mimetype": "text/x-python",
   "name": "python",
   "nbconvert_exporter": "python",
   "pygments_lexer": "ipython3",
   "version": "3.7.6"
  }
 },
 "nbformat": 4,
 "nbformat_minor": 4
}
